{
 "cells": [
  {
   "cell_type": "markdown",
   "metadata": {},
   "source": [
    "# Predição dos deputados Federais eleitos ou não eleitos\n"
   ]
  },
  {
   "cell_type": "code",
   "execution_count": 3,
   "metadata": {},
   "outputs": [],
   "source": [
    "import pandas as pd\n",
    "import numpy as np\n",
    "import seaborn as sns\n",
    "import matplotlib\n",
    "import seaborn as sns\n",
    "\n",
    "import matplotlib.pyplot as plt\n",
    "from scipy.stats import skew\n",
    "from scipy.stats.stats import pearsonr\n",
    "from sklearn import preprocessing\n",
    "from sklearn import metrics\n",
    "\n",
    "%config InlineBackend.figure_format = 'png' \n",
    "%matplotlib inline\n",
    "\n",
    "sns.set(style=\"darkgrid\")"
   ]
  },
  {
   "cell_type": "code",
   "execution_count": 4,
   "metadata": {},
   "outputs": [],
   "source": [
    "train = pd.read_csv(\"data/train.csv\")\n",
    "test = pd.read_csv(\"data/test.csv\")"
   ]
  },
  {
   "cell_type": "markdown",
   "metadata": {},
   "source": [
    "Abaixo é possível análise uma pequena partes dos dados originais."
   ]
  },
  {
   "cell_type": "code",
   "execution_count": 5,
   "metadata": {},
   "outputs": [
    {
     "data": {
      "text/html": [
       "<div>\n",
       "<style scoped>\n",
       "    .dataframe tbody tr th:only-of-type {\n",
       "        vertical-align: middle;\n",
       "    }\n",
       "\n",
       "    .dataframe tbody tr th {\n",
       "        vertical-align: top;\n",
       "    }\n",
       "\n",
       "    .dataframe thead th {\n",
       "        text-align: right;\n",
       "    }\n",
       "</style>\n",
       "<table border=\"1\" class=\"dataframe\">\n",
       "  <thead>\n",
       "    <tr style=\"text-align: right;\">\n",
       "      <th></th>\n",
       "      <th>ano</th>\n",
       "      <th>sequencial_candidato</th>\n",
       "      <th>nome</th>\n",
       "      <th>uf</th>\n",
       "      <th>partido</th>\n",
       "      <th>quantidade_doacoes</th>\n",
       "      <th>quantidade_doadores</th>\n",
       "      <th>total_receita</th>\n",
       "      <th>media_receita</th>\n",
       "      <th>recursos_de_outros_candidatos.comites</th>\n",
       "      <th>...</th>\n",
       "      <th>quantidade_despesas</th>\n",
       "      <th>quantidade_fornecedores</th>\n",
       "      <th>total_despesa</th>\n",
       "      <th>media_despesa</th>\n",
       "      <th>cargo</th>\n",
       "      <th>sexo</th>\n",
       "      <th>grau</th>\n",
       "      <th>estado_civil</th>\n",
       "      <th>ocupacao</th>\n",
       "      <th>situacao</th>\n",
       "    </tr>\n",
       "  </thead>\n",
       "  <tbody>\n",
       "    <tr>\n",
       "      <th>0</th>\n",
       "      <td>2006</td>\n",
       "      <td>10001</td>\n",
       "      <td>JOSÉ LUIZ NOGUEIRA DE SOUSA</td>\n",
       "      <td>AP</td>\n",
       "      <td>PT</td>\n",
       "      <td>6</td>\n",
       "      <td>6</td>\n",
       "      <td>16600.00</td>\n",
       "      <td>2766.67</td>\n",
       "      <td>0.0</td>\n",
       "      <td>...</td>\n",
       "      <td>14</td>\n",
       "      <td>14</td>\n",
       "      <td>16583.60</td>\n",
       "      <td>1184.54</td>\n",
       "      <td>DEPUTADO FEDERAL</td>\n",
       "      <td>MASCULINO</td>\n",
       "      <td>ENSINO MÉDIO COMPLETO</td>\n",
       "      <td>CASADO(A)</td>\n",
       "      <td>VEREADOR</td>\n",
       "      <td>nao_eleito</td>\n",
       "    </tr>\n",
       "    <tr>\n",
       "      <th>1</th>\n",
       "      <td>2006</td>\n",
       "      <td>10002</td>\n",
       "      <td>LOIVA DE OLIVEIRA</td>\n",
       "      <td>RO</td>\n",
       "      <td>PT</td>\n",
       "      <td>13</td>\n",
       "      <td>13</td>\n",
       "      <td>22826.00</td>\n",
       "      <td>1755.85</td>\n",
       "      <td>6625.0</td>\n",
       "      <td>...</td>\n",
       "      <td>24</td>\n",
       "      <td>23</td>\n",
       "      <td>20325.99</td>\n",
       "      <td>846.92</td>\n",
       "      <td>DEPUTADO FEDERAL</td>\n",
       "      <td>FEMININO</td>\n",
       "      <td>SUPERIOR COMPLETO</td>\n",
       "      <td>SOLTEIRO(A)</td>\n",
       "      <td>SERVIDOR PÚBLICO ESTADUAL</td>\n",
       "      <td>nao_eleito</td>\n",
       "    </tr>\n",
       "    <tr>\n",
       "      <th>2</th>\n",
       "      <td>2006</td>\n",
       "      <td>10002</td>\n",
       "      <td>MARIA DALVA DE SOUZA FIGUEIREDO</td>\n",
       "      <td>AP</td>\n",
       "      <td>PT</td>\n",
       "      <td>17</td>\n",
       "      <td>16</td>\n",
       "      <td>158120.80</td>\n",
       "      <td>9301.22</td>\n",
       "      <td>2250.0</td>\n",
       "      <td>...</td>\n",
       "      <td>123</td>\n",
       "      <td>108</td>\n",
       "      <td>146011.70</td>\n",
       "      <td>1187.09</td>\n",
       "      <td>DEPUTADO FEDERAL</td>\n",
       "      <td>FEMININO</td>\n",
       "      <td>SUPERIOR COMPLETO</td>\n",
       "      <td>VIÚVO(A)</td>\n",
       "      <td>PEDAGOGO</td>\n",
       "      <td>eleito</td>\n",
       "    </tr>\n",
       "    <tr>\n",
       "      <th>3</th>\n",
       "      <td>2006</td>\n",
       "      <td>10002</td>\n",
       "      <td>ROMALDO MILANI</td>\n",
       "      <td>MS</td>\n",
       "      <td>PRONA</td>\n",
       "      <td>6</td>\n",
       "      <td>6</td>\n",
       "      <td>3001.12</td>\n",
       "      <td>500.19</td>\n",
       "      <td>0.0</td>\n",
       "      <td>...</td>\n",
       "      <td>8</td>\n",
       "      <td>8</td>\n",
       "      <td>3001.12</td>\n",
       "      <td>375.14</td>\n",
       "      <td>DEPUTADO FEDERAL</td>\n",
       "      <td>MASCULINO</td>\n",
       "      <td>ENSINO MÉDIO INCOMPLETO</td>\n",
       "      <td>CASADO(A)</td>\n",
       "      <td>MILITAR REFORMADO</td>\n",
       "      <td>nao_eleito</td>\n",
       "    </tr>\n",
       "    <tr>\n",
       "      <th>4</th>\n",
       "      <td>2006</td>\n",
       "      <td>10003</td>\n",
       "      <td>ANSELMO DE JESUS ABREU</td>\n",
       "      <td>RO</td>\n",
       "      <td>PT</td>\n",
       "      <td>48</td>\n",
       "      <td>48</td>\n",
       "      <td>119820.00</td>\n",
       "      <td>2496.25</td>\n",
       "      <td>0.0</td>\n",
       "      <td>...</td>\n",
       "      <td>133</td>\n",
       "      <td>120</td>\n",
       "      <td>116416.64</td>\n",
       "      <td>875.31</td>\n",
       "      <td>DEPUTADO FEDERAL</td>\n",
       "      <td>MASCULINO</td>\n",
       "      <td>ENSINO FUNDAMENTAL COMPLETO</td>\n",
       "      <td>CASADO(A)</td>\n",
       "      <td>DEPUTADO</td>\n",
       "      <td>eleito</td>\n",
       "    </tr>\n",
       "  </tbody>\n",
       "</table>\n",
       "<p>5 rows × 24 columns</p>\n",
       "</div>"
      ],
      "text/plain": [
       "    ano  sequencial_candidato                             nome  uf partido  \\\n",
       "0  2006                 10001      JOSÉ LUIZ NOGUEIRA DE SOUSA  AP      PT   \n",
       "1  2006                 10002                LOIVA DE OLIVEIRA  RO      PT   \n",
       "2  2006                 10002  MARIA DALVA DE SOUZA FIGUEIREDO  AP      PT   \n",
       "3  2006                 10002                   ROMALDO MILANI  MS   PRONA   \n",
       "4  2006                 10003           ANSELMO DE JESUS ABREU  RO      PT   \n",
       "\n",
       "   quantidade_doacoes  quantidade_doadores  total_receita  media_receita  \\\n",
       "0                   6                    6       16600.00        2766.67   \n",
       "1                  13                   13       22826.00        1755.85   \n",
       "2                  17                   16      158120.80        9301.22   \n",
       "3                   6                    6        3001.12         500.19   \n",
       "4                  48                   48      119820.00        2496.25   \n",
       "\n",
       "   recursos_de_outros_candidatos.comites     ...      quantidade_despesas  \\\n",
       "0                                    0.0     ...                       14   \n",
       "1                                 6625.0     ...                       24   \n",
       "2                                 2250.0     ...                      123   \n",
       "3                                    0.0     ...                        8   \n",
       "4                                    0.0     ...                      133   \n",
       "\n",
       "   quantidade_fornecedores  total_despesa  media_despesa             cargo  \\\n",
       "0                       14       16583.60        1184.54  DEPUTADO FEDERAL   \n",
       "1                       23       20325.99         846.92  DEPUTADO FEDERAL   \n",
       "2                      108      146011.70        1187.09  DEPUTADO FEDERAL   \n",
       "3                        8        3001.12         375.14  DEPUTADO FEDERAL   \n",
       "4                      120      116416.64         875.31  DEPUTADO FEDERAL   \n",
       "\n",
       "        sexo                         grau  estado_civil  \\\n",
       "0  MASCULINO        ENSINO MÉDIO COMPLETO     CASADO(A)   \n",
       "1   FEMININO            SUPERIOR COMPLETO   SOLTEIRO(A)   \n",
       "2   FEMININO            SUPERIOR COMPLETO      VIÚVO(A)   \n",
       "3  MASCULINO      ENSINO MÉDIO INCOMPLETO     CASADO(A)   \n",
       "4  MASCULINO  ENSINO FUNDAMENTAL COMPLETO     CASADO(A)   \n",
       "\n",
       "                    ocupacao    situacao  \n",
       "0                   VEREADOR  nao_eleito  \n",
       "1  SERVIDOR PÚBLICO ESTADUAL  nao_eleito  \n",
       "2                   PEDAGOGO      eleito  \n",
       "3          MILITAR REFORMADO  nao_eleito  \n",
       "4                   DEPUTADO      eleito  \n",
       "\n",
       "[5 rows x 24 columns]"
      ]
     },
     "execution_count": 5,
     "metadata": {},
     "output_type": "execute_result"
    }
   ],
   "source": [
    "train.head()"
   ]
  },
  {
   "cell_type": "markdown",
   "metadata": {},
   "source": [
    "Vamos agora analisar a distribuição das classes eleito e nçai eleito nos dados de treino"
   ]
  },
  {
   "cell_type": "code",
   "execution_count": 6,
   "metadata": {},
   "outputs": [
    {
     "data": {
      "text/plain": [
       "<matplotlib.axes._subplots.AxesSubplot at 0x7f97f9c2a860>"
      ]
     },
     "execution_count": 6,
     "metadata": {},
     "output_type": "execute_result"
    },
    {
     "data": {
      "image/png": "[encoded data removed]",
      "text/plain": [
       "<Figure size 432x288 with 1 Axes>"
      ]
     },
     "metadata": {},
     "output_type": "display_data"
    }
   ],
   "source": [
    "sns.countplot(x=\"situacao\", data=train)"
   ]
  },
  {
   "cell_type": "markdown",
   "metadata": {},
   "source": [
    "Como podemos verificar na distribuição existem poucas examplares no dados com valor eleito (cerca de 1000) enquanto examplares nos dados com valor não eleito são representados por mais de 6000, o que demostra um desbalanceamento de classes. Este resultado pode resultar e uma alta acurácia de forma erroneamente (Overfitting). \n",
    "\n",
    "Nesse contexto, aplicamos a técnica de Random under-sampling para balancear a duas classes. Essa técnica consiste remover amostrar da classe majoritária, ficando assim ambas com mesmo número de aparições e balanceadas. "
   ]
  },
  {
   "cell_type": "code",
   "execution_count": 7,
   "metadata": {},
   "outputs": [
    {
     "data": {
      "text/plain": [
       "<matplotlib.axes._subplots.AxesSubplot at 0x7f97f9905a58>"
      ]
     },
     "execution_count": 7,
     "metadata": {},
     "output_type": "execute_result"
    },
    {
     "data": {
      "image/png": "[encoded data removed]",
      "text/plain": [
       "<Figure size 432x288 with 1 Axes>"
      ]
     },
     "metadata": {},
     "output_type": "display_data"
    }
   ],
   "source": [
    "count_class_1, count_class_0 = train.situacao.value_counts()\n",
    "df_class_0 = train[train['situacao'] == \"eleito\"]\n",
    "df_class_1 = train[train['situacao'] == \"nao_eleito\"]\n",
    "\n",
    "df_class_1_under = df_class_1.sample(count_class_0, replace=True)\n",
    "train_balanceado = pd.concat([df_class_1_under, df_class_0], axis=0)\n",
    "\n",
    "sns.countplot(x=\"situacao\", data=train_balanceado)"
   ]
  },
  {
   "cell_type": "markdown",
   "metadata": {},
   "source": [
    "### Tratamento nos dados"
   ]
  },
  {
   "cell_type": "markdown",
   "metadata": {},
   "source": [
    "Para considerar somente features relevantes, foram desconsideradas as seguintes variáveis:\n",
    "\n",
    "ano - Com os dados de treino e teste utilizados são somente de único ano, esta informação logo pode ser desconsiderada\n",
    "sequencial_candidato é apenas um identificador de cada candidato que não será útil para predição\n",
    "Nome - O nome do candidato\n",
    "Cargo - considerando que todos os parlamentares são Deputados Federais essa infomação não é útil.\n"
   ]
  },
  {
   "cell_type": "code",
   "execution_count": 8,
   "metadata": {},
   "outputs": [],
   "source": [
    "train = train.drop([\"sequencial_candidato\", \"nome\", \"cargo\"], axis=1)\n",
    "test = test.drop([\"sequencial_candidato\", \"nome\", \"cargo\"], axis=1)\n",
    "train_balanceado = train_balanceado.drop([\"sequencial_candidato\", \"nome\", \"cargo\"], axis=1)"
   ]
  },
  {
   "cell_type": "markdown",
   "metadata": {},
   "source": [
    "Como medida para reduzir o envisamento nos dados, iremos aplicar log em todas as variáveis numéricas que serão utilizadas na predição. Além disso, iremos remover valores NA dos presentes nos dados.\n",
    "\n",
    "A função abaixo remove os valores NA das variáveis numéricas e substitui pela média dos valores ao qual a coluna pertence."
   ]
  },
  {
   "cell_type": "code",
   "execution_count": 9,
   "metadata": {},
   "outputs": [],
   "source": [
    "def remove_NA(data):\n",
    "    #remove NA das variáveis e substitui pela média\n",
    "    return data.fillna(data.mean())"
   ]
  },
  {
   "cell_type": "markdown",
   "metadata": {},
   "source": [
    "Para aplicar o log nas variáveis, a fim de diminuir seu enviesamento a função abaixo foi criada."
   ]
  },
  {
   "cell_type": "code",
   "execution_count": 10,
   "metadata": {},
   "outputs": [],
   "source": [
    "def set_log_numeric_variables(data):\n",
    "    numeric_feats = data.dtypes[data.dtypes != \"object\"].index\n",
    "    \n",
    "    #coloca valores das variáveis numéricas em escala de log\n",
    "    data[numeric_feats] = np.log1p(data[numeric_feats])\n",
    "\n",
    "    return data"
   ]
  },
  {
   "cell_type": "markdown",
   "metadata": {},
   "source": [
    "Varios dos algoritmos de Aprendizado de máquina para classificação necessitam de dados numéricos. Assim, vamos converter nossas variáveis categóricas em valores numéricos."
   ]
  },
  {
   "cell_type": "code",
   "execution_count": 11,
   "metadata": {},
   "outputs": [],
   "source": [
    "def convert_categorical_variable_in_numeric(data):\n",
    "    le = preprocessing.LabelEncoder()\n",
    "\n",
    "    data['uf'] = le.fit_transform(data['uf'])\n",
    "    data['partido'] = le.fit_transform(data['partido'])\n",
    "    data['sexo'] = le.fit_transform(data['sexo'])\n",
    "    data['grau'] = le.fit_transform(data['grau'])\n",
    "    data['estado_civil'] = le.fit_transform(data['estado_civil'])\n",
    "    data['ocupacao'] = le.fit_transform(data['ocupacao'])\n",
    "    if (\"situacao\" in data.columns):\n",
    "        data['situacao'] = le.fit_transform(data['situacao'])\n",
    "    \n",
    "    return data"
   ]
  },
  {
   "cell_type": "markdown",
   "metadata": {},
   "source": [
    "Para normalizar as variáveis presentes nos dados comm valores entre 0 a 1, a função de normalização abaixo foi criada."
   ]
  },
  {
   "cell_type": "code",
   "execution_count": 12,
   "metadata": {},
   "outputs": [],
   "source": [
    "def data_normalization(data):\n",
    "    #log transform skewed numeric features:\n",
    "    numeric_feats = data.dtypes[data.dtypes != \"object\"].index\n",
    "    \n",
    "    #identifica as variáveis categóricas\n",
    "    cat_feats = data.dtypes[data.dtypes == \"object\"].index\n",
    "\n",
    "    min_max = preprocessing.MinMaxScaler()\n",
    "    data_normalized = min_max.fit_transform(data[numeric_feats])\n",
    "    \n",
    "    data_normalized = pd.DataFrame(data_normalized, columns=data[numeric_feats].columns)\n",
    "    \n",
    "    data = pd.concat([data_normalized, data[cat_feats].reset_index()], axis = 1, sort = False)\n",
    "    \n",
    "    return data"
   ]
  },
  {
   "cell_type": "markdown",
   "metadata": {},
   "source": [
    "Aqui vamos aplicar todas as funções descritas anteriormente."
   ]
  },
  {
   "cell_type": "code",
   "execution_count": 13,
   "metadata": {},
   "outputs": [],
   "source": [
    "def data_proccess(data):\n",
    "    \n",
    "     #1. substitui NA pela média da coluna\n",
    "    data = remove_NA(data)\n",
    "    \n",
    "    #2. aplica log nas variáveis numéricas\n",
    "    data = set_log_numeric_variables(data)\n",
    "    \n",
    "    #3. normaliza variáveis\n",
    "    data = data_normalization(data)\n",
    "    \n",
    "    #4.Converte variáveis categóricas\n",
    "    data = convert_categorical_variable_in_numeric(data)\n",
    "    \n",
    "    return data"
   ]
  },
  {
   "cell_type": "markdown",
   "metadata": {},
   "source": [
    "### Modelagem"
   ]
  },
  {
   "cell_type": "code",
   "execution_count": 14,
   "metadata": {},
   "outputs": [],
   "source": [
    "from sklearn.model_selection import cross_val_score\n",
    "\n",
    "from sklearn.metrics import make_scorer, accuracy_score, precision_score, recall_score, f1_score\n",
    "\n",
    "def cross_validation(model, cv=10):\n",
    "    values = []\n",
    "    f1 = cross_val_score(model, features, label, cv=cv, scoring=\"f1\").mean() \n",
    "    precision = cross_val_score(model, features, label, cv=cv, scoring=\"precision\").mean() \n",
    "    recall = cross_val_score(model, features, label, cv=cv, scoring=\"recall\").mean() \n",
    "    auc = cross_val_score(model, features, label, cv=cv, scoring='roc_auc').mean()\n",
    "        \n",
    "    values.append({\"f1\": f1, \"recall\": recall, \"precision\": precision, \"roc_auc\": auc})\n",
    "    return(values)\n",
    "\n",
    "def extrairMelhorValorMetricas(values):\n",
    "    lista_f1 = []\n",
    "    lista_recall = []\n",
    "    lista_precision = []\n",
    "    lista_auc = []\n",
    "    \n",
    "    for v in values:\n",
    "        lista_f1.append(v[0]['f1'])\n",
    "        lista_recall.append(v[0]['recall'])\n",
    "        lista_precision.append(v[0]['precision'])\n",
    "        lista_auc.append(v[0]['roc_auc'])\n",
    "        \n",
    "    return {\"all_f1\": lista_f1,\"index_f1\": lista_f1.index(np.max(lista_f1)), \n",
    "            \"f1\": np.max(lista_f1), \"recall\": np.max(lista_recall), \"precision\": np.max(lista_precision), \n",
    "            \"roc_auc\": np.max(lista_auc)}    \n",
    "\n",
    "    \n",
    "\n",
    "def printMetrics(values):\n",
    "    return printMetricsNative(values['precision'], values['recall'],  values['f1'], values['roc_auc'])\n",
    "\n",
    "def printMetricsNative(precision, recall, f1, roc_auc):\n",
    "    print(\"As métricas encontradas foram: \")\n",
    "    print(\"Recall: \", precision * 100, \"%\")\n",
    "    print(\"Precision: \", recall * 100, \"%\")\n",
    "    print(\"F-score: \", f1 * 100, \"%\")\n",
    "    print(\"AUC: \", roc_auc * 100, \"%\")\n",
    "\n",
    "\n",
    "    "
   ]
  },
  {
   "cell_type": "code",
   "execution_count": 15,
   "metadata": {},
   "outputs": [],
   "source": [
    "#tratamento dados de  treino com classes balanceadas\n",
    "train_balanceado = data_proccess(train_balanceado)\n",
    "train_balanceado = train_balanceado.drop(\"index\", axis=1)\n",
    "\n",
    "#dados utilizados no treino dos modelos\n",
    "features = train_balanceado.drop('situacao', axis=1)\n",
    "label = train_balanceado.situacao\n",
    "\n",
    "#tratamendo dos dados de treino sem balanceamento\n",
    "train = data_proccess(train)\n",
    "train = train.drop(\"index\", axis=1)\n",
    "\n",
    "#Separação dos dados de treino e validação por ano\n",
    "# dados de 2006\n",
    "train_data = train[train.ano == 0]\n",
    "# dados de 2010\n",
    "validation = train[train.ano == 1]\n",
    "\n",
    "#Separação dados utilizados como treino\n",
    "train_X = train_data.drop('situacao', axis=1)\n",
    "train_Y = train_data.situacao\n",
    "\n",
    "#Separação dados utilizados como validacao\n",
    "validacao_X = validation.drop('situacao', axis=1)\n",
    "validacao_Y = validation.situacao\n",
    "\n",
    "#dados teste\n",
    "test = data_proccess(test)\n",
    "test = test.drop(\"index\", axis=1)"
   ]
  },
  {
   "cell_type": "markdown",
   "metadata": {},
   "source": [
    "### Regresão Logística"
   ]
  },
  {
   "cell_type": "code",
   "execution_count": 16,
   "metadata": {},
   "outputs": [],
   "source": [
    "from sklearn.linear_model import LogisticRegressionCV\n",
    "\n",
    "clf = LogisticRegressionCV(cv=5, random_state=0, multi_class='ovr', max_iter=10000)\n",
    "clf.fit(features, label)\n",
    "\n",
    "rlg_pred_train_x = clf.predict(train_X)\n",
    "rlg_pred_validacao_x = clf.predict(validacao_X)"
   ]
  },
  {
   "cell_type": "markdown",
   "metadata": {},
   "source": [
    "Abaixo é apresentado o desempenho do modelo com os dados separados para treino e teste."
   ]
  },
  {
   "cell_type": "code",
   "execution_count": 17,
   "metadata": {},
   "outputs": [
    {
     "name": "stdout",
     "output_type": "stream",
     "text": [
      "Resultados predição dados treino\n",
      "As métricas encontradas foram: \n",
      "Recall:  98.87724550898204 %\n",
      "Precision:  86.11473272490223 %\n",
      "F-score:  92.05574912891987 %\n",
      "AUC:  90.13338975426399 %\n",
      "\n",
      "\n",
      "Resultados predição dados validação\n",
      "As métricas encontradas foram: \n",
      "Recall:  99.3026941362916 %\n",
      "Precision:  88.80385487528345 %\n",
      "F-score:  93.76028729612449 %\n",
      "AUC:  92.25767792497116 %\n"
     ]
    }
   ],
   "source": [
    "rlg_precision_train = metrics.precision_score(train_Y, rlg_pred_train_x)\n",
    "rlg_recall_train = metrics.recall_score(train_Y, rlg_pred_train_x)\n",
    "rlg_auc_roc_train = metrics.roc_auc_score(train_Y, rlg_pred_train_x)\n",
    "rlg_f1_train = metrics.f1_score(train_Y, rlg_pred_train_x)\n",
    "\n",
    "print(\"Resultados predição dados treino\")\n",
    "printMetricsNative(rlg_precision_train, rlg_recall_train, rlg_f1_train, rlg_auc_roc_train)\n",
    "\n",
    "#Verificando resultados validação\n",
    "rlg_precision_validacao = metrics.precision_score(validacao_Y, rlg_pred_validacao_x)\n",
    "rlg_recall_validacao = metrics.recall_score(validacao_Y, rlg_pred_validacao_x)\n",
    "rlg_auc_roc_validacao = metrics.roc_auc_score(validacao_Y, rlg_pred_validacao_x)\n",
    "rlg_f1_validacao = metrics.f1_score(validacao_Y, rlg_pred_validacao_x)\n",
    "\n",
    "print('\\n')\n",
    "print(\"Resultados predição dados validação\")\n",
    "printMetricsNative(rlg_precision_validacao, rlg_recall_validacao, rlg_f1_validacao, rlg_auc_roc_validacao)"
   ]
  },
  {
   "cell_type": "markdown",
   "metadata": {},
   "source": [
    "### KNN"
   ]
  },
  {
   "cell_type": "code",
   "execution_count": 18,
   "metadata": {},
   "outputs": [
    {
     "name": "stdout",
     "output_type": "stream",
     "text": [
      "As métricas encontradas foram: \n",
      "Recall:  71.87208895681071 %\n",
      "Precision:  71.83418998667428 %\n",
      "F-score:  69.72925241877351 %\n",
      "AUC:  74.52136557975321 %\n"
     ]
    }
   ],
   "source": [
    "from sklearn.neighbors import KNeighborsClassifier\n",
    "\n",
    "neighbors = list(range(1,50))\n",
    "\n",
    "cv_scores = [cross_validation(KNeighborsClassifier(n_neighbors = k_value), cv=10)\n",
    "            for k_value in neighbors]\n",
    "\n",
    "result = extrairMelhorValorMetricas(cv_scores)\n",
    "optimal_k = neighbors[result['index_f1']]\n",
    "printMetrics(result)"
   ]
  },
  {
   "cell_type": "code",
   "execution_count": 19,
   "metadata": {},
   "outputs": [
    {
     "data": {
      "image/png": "[encoded data removed]",
      "text/plain": [
       "<Figure size 432x288 with 1 Axes>"
      ]
     },
     "metadata": {},
     "output_type": "display_data"
    },
    {
     "name": "stdout",
     "output_type": "stream",
     "text": [
      "O melhor valor para neighbors é:  9\n"
     ]
    }
   ],
   "source": [
    "plot_knn = pd.Series(result['all_f1'], index = neighbors)\n",
    "plot_knn.plot(title = \"Cross validation\")\n",
    "plt.xlabel(\"k\")\n",
    "plt.ylabel(\"F1-score\")\n",
    "plt.show()\n",
    "print (\"O melhor valor para neighbors é: \", optimal_k)"
   ]
  },
  {
   "cell_type": "code",
   "execution_count": 20,
   "metadata": {},
   "outputs": [],
   "source": [
    "# Treinando modelo \n",
    "model = KNeighborsClassifier(n_neighbors=optimal_k)\n",
    "model.fit(features, label)\n",
    "\n",
    "x_predict_knn = model.predict(train_X)\n",
    "x_predict_val_knn = model.predict(validacao_X)"
   ]
  },
  {
   "cell_type": "markdown",
   "metadata": {},
   "source": [
    "Abaixo é apresentado o desempenho do modelo com os dados separados para treino e teste."
   ]
  },
  {
   "cell_type": "code",
   "execution_count": 21,
   "metadata": {},
   "outputs": [
    {
     "name": "stdout",
     "output_type": "stream",
     "text": [
      "Resultados predição dados treino\n",
      "As métricas encontradas foram: \n",
      "Recall:  89.3018018018018 %\n",
      "Precision:  77.54237288135593 %\n",
      "F-score:  83.00767620376833 %\n",
      "AUC:  60.99340866290019 %\n",
      "\n",
      "\n",
      "Resultados predição dados validação\n",
      "As métricas encontradas foram: \n",
      "Recall:  91.81020474488137 %\n",
      "Precision:  80.07369614512471 %\n",
      "F-score:  85.54125662376987 %\n",
      "AUC:  65.47544456379043 %\n"
     ]
    }
   ],
   "source": [
    "knn_precision_train = metrics.precision_score(train_Y, x_predict_knn)\n",
    "knn_recall_train = metrics.recall_score(train_Y, x_predict_knn)\n",
    "knn_auc_roc_train = metrics.roc_auc_score(train_Y, x_predict_knn)\n",
    "knn_f1_train = metrics.f1_score(train_Y, x_predict_knn)\n",
    "\n",
    "print(\"Resultados predição dados treino\")\n",
    "printMetricsNative(knn_precision_train, knn_recall_train, knn_f1_train, knn_auc_roc_train)\n",
    "\n",
    "#Verificando resultados validação\n",
    "knn_precision_validacao = metrics.precision_score(validacao_Y, x_predict_val_knn)\n",
    "knn_recall_validacao = metrics.recall_score(validacao_Y, x_predict_val_knn)\n",
    "knn_auc_roc_validacao = metrics.roc_auc_score(validacao_Y, x_predict_val_knn)\n",
    "knn_f1_validacao = metrics.f1_score(validacao_Y, x_predict_val_knn)\n",
    "\n",
    "print('\\n')\n",
    "print(\"Resultados predição dados validação\")\n",
    "printMetricsNative(knn_precision_validacao, knn_recall_validacao, knn_f1_validacao, knn_auc_roc_validacao)"
   ]
  },
  {
   "cell_type": "markdown",
   "metadata": {},
   "source": [
    "### Árvore de decisão (Decision Tree)"
   ]
  },
  {
   "cell_type": "code",
   "execution_count": 22,
   "metadata": {},
   "outputs": [
    {
     "name": "stdout",
     "output_type": "stream",
     "text": [
      "As métricas encontradas foram: \n",
      "Recall:  95.41235146939627 %\n",
      "Precision:  84.79725870930898 %\n",
      "F-score:  88.95993665623175 %\n",
      "AUC:  92.48808051957944 %\n"
     ]
    }
   ],
   "source": [
    "from sklearn.tree import DecisionTreeClassifier\n",
    "\n",
    "depths = list(range(1, 10))\n",
    "\n",
    "cv_scores_dct = [cross_validation(DecisionTreeClassifier(max_depth = depth_value))\n",
    "            for depth_value in depths]\n",
    "\n",
    "result_dct = extrairMelhorValorMetricas(cv_scores_dct)\n",
    "optimal_depth = depths[result_dct['index_f1']]\n",
    "printMetrics(result_dct)\n"
   ]
  },
  {
   "cell_type": "code",
   "execution_count": 23,
   "metadata": {},
   "outputs": [
    {
     "data": {
      "image/png": "[encoded data removed]",
      "text/plain": [
       "<Figure size 432x288 with 1 Axes>"
      ]
     },
     "metadata": {},
     "output_type": "display_data"
    },
    {
     "name": "stdout",
     "output_type": "stream",
     "text": [
      "O melhor valor para max depth é:  1\n"
     ]
    }
   ],
   "source": [
    "plot_knn = pd.Series(result_dct['all_f1'], index = depths)\n",
    "plot_knn.plot(title = \"Cross validation\")\n",
    "plt.xlabel(\"'Number of depth'\")\n",
    "plt.ylabel(\"F1-score\")\n",
    "plt.show()\n",
    "print (\"O melhor valor para max depth é: \", optimal_depth)"
   ]
  },
  {
   "cell_type": "code",
   "execution_count": 24,
   "metadata": {},
   "outputs": [],
   "source": [
    "#treinando o modelo\n",
    "classifier = DecisionTreeClassifier(max_depth=optimal_depth)  \n",
    "classifier.fit(features, label)\n",
    "\n",
    "x_predict_train_dct = classifier.predict(train_X)\n",
    "x_predict_val_dct = classifier.predict(validacao_X)"
   ]
  },
  {
   "cell_type": "markdown",
   "metadata": {},
   "source": [
    "Abaixo é apresentado o desempenho do modelo com os dados separados para treino e teste."
   ]
  },
  {
   "cell_type": "code",
   "execution_count": 25,
   "metadata": {},
   "outputs": [
    {
     "name": "stdout",
     "output_type": "stream",
     "text": [
      "Resultados predição dados treino\n",
      "As métricas encontradas foram: \n",
      "Recall:  98.73652917131179 %\n",
      "Precision:  86.60365058670143 %\n",
      "F-score:  92.27296405625978 %\n",
      "AUC:  89.9879851374053 %\n",
      "\n",
      "\n",
      "Resultados predição dados validação\n",
      "As métricas encontradas foram: \n",
      "Recall:  99.82859101816935 %\n",
      "Precision:  82.53968253968253 %\n",
      "F-score:  90.36462373933281 %\n",
      "AUC:  90.78251183514341 %\n"
     ]
    }
   ],
   "source": [
    "dct_precision_train = metrics.precision_score(train_Y, x_predict_train_dct)\n",
    "dct_recall_train = metrics.recall_score(train_Y, x_predict_train_dct)\n",
    "dct_auc_roc_train = metrics.roc_auc_score(train_Y, x_predict_train_dct)\n",
    "dct_f1_train = metrics.f1_score(train_Y, x_predict_train_dct)\n",
    "\n",
    "print(\"Resultados predição dados treino\")\n",
    "printMetricsNative(dct_precision_train, dct_recall_train, dct_f1_train, dct_auc_roc_train)\n",
    "\n",
    "#Verificando resultados validação\n",
    "dct_precision_validacao = metrics.precision_score(validacao_Y, x_predict_val_dct)\n",
    "dct_recall_validacao = metrics.recall_score(validacao_Y, x_predict_val_dct)\n",
    "dct_auc_roc_validacao = metrics.roc_auc_score(validacao_Y, x_predict_val_dct)\n",
    "dct_f1_validacao = metrics.f1_score(validacao_Y, x_predict_val_dct)\n",
    "\n",
    "print('\\n')\n",
    "print(\"Resultados predição dados validação\")\n",
    "printMetricsNative(dct_precision_validacao, dct_recall_validacao, dct_f1_validacao, dct_auc_roc_validacao)"
   ]
  },
  {
   "cell_type": "markdown",
   "metadata": {},
   "source": [
    "### Adaboost"
   ]
  },
  {
   "cell_type": "code",
   "execution_count": 26,
   "metadata": {},
   "outputs": [
    {
     "name": "stdout",
     "output_type": "stream",
     "text": [
      "As métricas encontradas foram: \n",
      "Recall:  87.82636383049523 %\n",
      "Precision:  87.42600047359697 %\n",
      "F-score:  87.43561529683754 %\n",
      "AUC:  93.76169601994064 %\n"
     ]
    }
   ],
   "source": [
    "from sklearn.ensemble import AdaBoostClassifier\n",
    "\n",
    "from sklearn.tree import DecisionTreeClassifier\n",
    "\n",
    "n_estimators_values = list(range(40, 100))\n",
    "\n",
    "cv_scores_ada = [cross_validation(AdaBoostClassifier(n_estimators=n), cv=5)\n",
    "            for n in n_estimators_values]\n",
    "\n",
    "result_ada = extrairMelhorValorMetricas(cv_scores_ada)\n",
    "optimal_ada = n_estimators_values[result_ada['index_f1']]\n",
    "printMetrics(result_ada)\n"
   ]
  },
  {
   "cell_type": "code",
   "execution_count": 27,
   "metadata": {},
   "outputs": [
    {
     "data": {
      "image/png": "[encoded data removed]",
      "text/plain": [
       "<Figure size 432x288 with 1 Axes>"
      ]
     },
     "metadata": {},
     "output_type": "display_data"
    },
    {
     "name": "stdout",
     "output_type": "stream",
     "text": [
      "O melhor valor para n_estimators é:  48\n"
     ]
    }
   ],
   "source": [
    "plot_knn = pd.Series(result_ada['all_f1'], index = n_estimators_values)\n",
    "plot_knn.plot(title = \"Cross validation\")\n",
    "plt.xlabel(\"'Number of n_estimators'\")\n",
    "plt.ylabel(\"F1-score\")\n",
    "plt.show()\n",
    "print (\"O melhor valor para n_estimators é: \", optimal_ada)"
   ]
  },
  {
   "cell_type": "code",
   "execution_count": 28,
   "metadata": {},
   "outputs": [],
   "source": [
    "#treinando o modelo\n",
    "abc = AdaBoostClassifier(n_estimators=optimal_ada, learning_rate=1)\n",
    "abc = abc.fit(features, label)\n",
    "\n",
    "x_predict_train_abc = abc.predict(train_X)\n",
    "x_predict_val_abc = abc.predict(validacao_X)"
   ]
  },
  {
   "cell_type": "markdown",
   "metadata": {},
   "source": [
    "Abaixo é apresentado o desempenho do modelo com os dados separados para treino e teste."
   ]
  },
  {
   "cell_type": "code",
   "execution_count": 29,
   "metadata": {},
   "outputs": [
    {
     "name": "stdout",
     "output_type": "stream",
     "text": [
      "Resultados predição dados treino\n",
      "As métricas encontradas foram: \n",
      "Recall:  98.67598381757999 %\n",
      "Precision:  87.45110821382008 %\n",
      "F-score:  92.72507344047001 %\n",
      "AUC:  90.21678217708548 %\n",
      "\n",
      "\n",
      "Resultados predição dados validação\n",
      "As métricas encontradas foram: \n",
      "Recall:  99.22928709055877 %\n",
      "Precision:  87.58503401360545 %\n",
      "F-score:  93.04426377597109 %\n",
      "AUC:  91.45333572025301 %\n"
     ]
    }
   ],
   "source": [
    "abc_precision_train = metrics.precision_score(train_Y, x_predict_train_abc)\n",
    "abc_recall_train = metrics.recall_score(train_Y, x_predict_train_abc)\n",
    "abc_auc_roc_train = metrics.roc_auc_score(train_Y, x_predict_train_abc)\n",
    "abc_f1_train = metrics.f1_score(train_Y, x_predict_train_abc)\n",
    "\n",
    "print(\"Resultados predição dados treino\")\n",
    "printMetricsNative(abc_precision_train, abc_recall_train, abc_f1_train, abc_auc_roc_train)\n",
    "\n",
    "#Verificando resultados validação\n",
    "abc_precision_validacao = metrics.precision_score(validacao_Y, x_predict_val_abc)\n",
    "abc_recall_validacao = metrics.recall_score(validacao_Y, x_predict_val_abc)\n",
    "abc_auc_roc_validacao = metrics.roc_auc_score(validacao_Y, x_predict_val_abc)\n",
    "abc_f1_validacao = metrics.f1_score(validacao_Y, x_predict_val_abc)\n",
    "\n",
    "print('\\n')\n",
    "print(\"Resultados predição dados validação\")\n",
    "printMetricsNative(abc_precision_validacao, abc_recall_validacao, abc_f1_validacao, abc_auc_roc_validacao)"
   ]
  },
  {
   "cell_type": "markdown",
   "metadata": {},
   "source": [
    "### Análise dos valores de Precision, Recall e AUC-Precision&Recall"
   ]
  },
  {
   "cell_type": "markdown",
   "metadata": {},
   "source": [
    "##### Modelo de Regresão Logísticas"
   ]
  },
  {
   "cell_type": "code",
   "execution_count": 30,
   "metadata": {},
   "outputs": [
    {
     "name": "stdout",
     "output_type": "stream",
     "text": [
      "Resultados predição dados treino\n",
      "As métricas encontradas foram: \n",
      "Recall:  98.87724550898204 %\n",
      "Precision:  86.11473272490223 %\n",
      "F-score:  92.05574912891987 %\n",
      "AUC:  90.13338975426399 %\n",
      "--------------------------------------------\n",
      "Resultados predição dados validação\n",
      "As métricas encontradas foram: \n",
      "Recall:  99.3026941362916 %\n",
      "Precision:  88.80385487528345 %\n",
      "F-score:  93.76028729612449 %\n",
      "AUC:  92.25767792497116 %\n"
     ]
    }
   ],
   "source": [
    "print(\"Resultados predição dados treino\")\n",
    "printMetricsNative(rlg_precision_train, rlg_recall_train, rlg_f1_train, rlg_auc_roc_train)\n",
    "print(\"--------------------------------------------\")\n",
    "print(\"Resultados predição dados validação\")\n",
    "printMetricsNative(rlg_precision_validacao, rlg_recall_validacao, rlg_f1_validacao, rlg_auc_roc_validacao)"
   ]
  },
  {
   "cell_type": "markdown",
   "metadata": {},
   "source": [
    "##### Modelo KNN"
   ]
  },
  {
   "cell_type": "code",
   "execution_count": 31,
   "metadata": {},
   "outputs": [
    {
     "name": "stdout",
     "output_type": "stream",
     "text": [
      "Resultados predição dados treino\n",
      "As métricas encontradas foram: \n",
      "Recall:  89.3018018018018 %\n",
      "Precision:  77.54237288135593 %\n",
      "F-score:  83.00767620376833 %\n",
      "AUC:  60.99340866290019 %\n",
      "--------------------------------------------\n",
      "Resultados predição dados validação\n",
      "As métricas encontradas foram: \n",
      "Recall:  91.81020474488137 %\n",
      "Precision:  80.07369614512471 %\n",
      "F-score:  85.54125662376987 %\n",
      "AUC:  65.47544456379043 %\n"
     ]
    }
   ],
   "source": [
    "print(\"Resultados predição dados treino\")\n",
    "printMetricsNative(knn_precision_train, knn_recall_train, knn_f1_train, knn_auc_roc_train)\n",
    "print(\"--------------------------------------------\")\n",
    "print(\"Resultados predição dados validação\")\n",
    "printMetricsNative(knn_precision_validacao, knn_recall_validacao, knn_f1_validacao, knn_auc_roc_validacao)"
   ]
  },
  {
   "cell_type": "markdown",
   "metadata": {},
   "source": [
    "##### Modelo Decision Tree"
   ]
  },
  {
   "cell_type": "code",
   "execution_count": 32,
   "metadata": {},
   "outputs": [
    {
     "name": "stdout",
     "output_type": "stream",
     "text": [
      "Resultados predição dados treino\n",
      "As métricas encontradas foram: \n",
      "Recall:  98.73652917131179 %\n",
      "Precision:  86.60365058670143 %\n",
      "F-score:  92.27296405625978 %\n",
      "AUC:  89.9879851374053 %\n",
      "--------------------------------------------\n",
      "Resultados predição dados validação\n",
      "As métricas encontradas foram: \n",
      "Recall:  99.82859101816935 %\n",
      "Precision:  82.53968253968253 %\n",
      "F-score:  90.36462373933281 %\n",
      "AUC:  90.78251183514341 %\n"
     ]
    }
   ],
   "source": [
    "print(\"Resultados predição dados treino\")\n",
    "printMetricsNative(dct_precision_train, dct_recall_train, dct_f1_train, dct_auc_roc_train)\n",
    "print(\"--------------------------------------------\")\n",
    "print(\"Resultados predição dados validação\")\n",
    "printMetricsNative(dct_precision_validacao, dct_recall_validacao, dct_f1_validacao, dct_auc_roc_validacao)"
   ]
  },
  {
   "cell_type": "markdown",
   "metadata": {},
   "source": [
    "##### Modelo de Adaboosting"
   ]
  },
  {
   "cell_type": "code",
   "execution_count": 33,
   "metadata": {},
   "outputs": [
    {
     "name": "stdout",
     "output_type": "stream",
     "text": [
      "Resultados predição dados treino\n",
      "As métricas encontradas foram: \n",
      "Recall:  98.67598381757999 %\n",
      "Precision:  87.45110821382008 %\n",
      "F-score:  92.72507344047001 %\n",
      "AUC:  90.21678217708548 %\n",
      "--------------------------------------------\n",
      "Resultados predição dados validação\n",
      "As métricas encontradas foram: \n",
      "Recall:  99.22928709055877 %\n",
      "Precision:  87.58503401360545 %\n",
      "F-score:  93.04426377597109 %\n",
      "AUC:  91.45333572025301 %\n"
     ]
    }
   ],
   "source": [
    "print(\"Resultados predição dados treino\")\n",
    "printMetricsNative(abc_precision_train, abc_recall_train, abc_f1_train, abc_auc_roc_train)\n",
    "print(\"--------------------------------------------\")\n",
    "print(\"Resultados predição dados validação\")\n",
    "printMetricsNative(abc_precision_validacao, abc_recall_validacao, abc_f1_validacao, abc_auc_roc_validacao)"
   ]
  },
  {
   "cell_type": "markdown",
   "metadata": {},
   "source": [
    "De acordo com os resultados em todos os modelos testados ocorreu um pequena variacao entre os resultados com os dados de teste (dados de 2006) e dados de validação (dados de 2016). As predições com dados de validação foram as que apresentaram melhores resultados.\n",
    "\n",
    "Comparando f-score (representa uma média entre precision e recall) dos modelos podemos perceber que o modelo de Regressão Logística apresentou melhores resultados entre os modelos variando o f-score entre 94% e 95%. Esses resultados parecerem bons com altos valores de Recall, precision e AUC.\n",
    "\n",
    "Vamos avaliar agora a importância dos atributos considereados nos modelos."
   ]
  },
  {
   "cell_type": "markdown",
   "metadata": {},
   "source": [
    "### Importância das variáveis para os modelos"
   ]
  },
  {
   "cell_type": "markdown",
   "metadata": {},
   "source": [
    "##### Regressão Logística"
   ]
  },
  {
   "cell_type": "code",
   "execution_count": 34,
   "metadata": {},
   "outputs": [
    {
     "data": {
      "text/plain": [
       "Text(0.5,1,'Coefficients Regressão Logística')"
      ]
     },
     "execution_count": 34,
     "metadata": {},
     "output_type": "execute_result"
    },
    {
     "data": {
      "image/png": "[encoded data removed]",
      "text/plain": [
       "<Figure size 576x720 with 1 Axes>"
      ]
     },
     "metadata": {},
     "output_type": "display_data"
    }
   ],
   "source": [
    "lista_features = list(features.columns.values)\n",
    "\n",
    "coef = pd.Series(clf.coef_[0], index = lista_features)\n",
    "\n",
    "imp_coef = pd.concat([coef.sort_values().head(10), coef.sort_values().tail(10)])\n",
    "matplotlib.rcParams['figure.figsize'] = (8.0, 10.0)\n",
    "imp_coef.plot(kind = \"barh\")\n",
    "plt.title(\"Coefficients Regressão Logística\")"
   ]
  },
  {
   "cell_type": "markdown",
   "metadata": {},
   "source": [
    "Partindo da ideia que o modelo de Regressão utilizou da classe \"não_eleito\" de maneira positiva podemos considerar que as variáveis mais importantes são com coeficientes negativos maiores sendo o total_despesa, media_despesa, quantidade_despesas as com maiores coeficiente e logo as mais importantes para o modelo.\n",
    "\n",
    "Aparentemente a quantidade de fornecedores, ano, recursos_de_pessoas_juridicas tiveram efeito negativo no modelo. O que pode significar que as variáveis monetárias são mais importantes"
   ]
  },
  {
   "cell_type": "markdown",
   "metadata": {},
   "source": [
    "##### KNN"
   ]
  },
  {
   "cell_type": "code",
   "execution_count": 35,
   "metadata": {},
   "outputs": [
    {
     "data": {
      "text/plain": [
       "Text(0.5,1,'Coefficients KNN baseado no f-score')"
      ]
     },
     "execution_count": 35,
     "metadata": {},
     "output_type": "execute_result"
    },
    {
     "data": {
      "image/png": "[encoded data removed]",
      "text/plain": [
       "<Figure size 576x720 with 1 Axes>"
      ]
     },
     "metadata": {},
     "output_type": "display_data"
    }
   ],
   "source": [
    "lista_values_conf = []\n",
    "for i in lista_features:\n",
    "    scores = cross_val_score(KNeighborsClassifier(n_neighbors = optimal_k), features[[i]], label, scoring=\"f1\", cv=10)\n",
    "    lista_values_conf.append(scores.mean())\n",
    "    \n",
    "coef = pd.Series(lista_values_conf, index = lista_features)\n",
    "\n",
    "imp_coef = pd.concat([coef.sort_values().head(10), coef.sort_values().tail(10)])\n",
    "matplotlib.rcParams['figure.figsize'] = (8.0, 10.0)\n",
    "imp_coef.plot(kind = \"barh\")\n",
    "plt.title(\"Coefficients KNN baseado no f-score\")"
   ]
  },
  {
   "cell_type": "markdown",
   "metadata": {},
   "source": [
    "Como podemos observar na visualização para o modelo KNN as variáveis total_receita e total_despesa foram consideradas as mais importantes. A variável UF que mostra a unidade federativa do deputado foi a feature menos importante para modelo. Assim como modelo anterior as variáveis monetárias foram consideradas as mais importantes para o modelo."
   ]
  },
  {
   "cell_type": "markdown",
   "metadata": {},
   "source": [
    "#### Decision Tree"
   ]
  },
  {
   "cell_type": "code",
   "execution_count": 36,
   "metadata": {},
   "outputs": [
    {
     "data": {
      "text/plain": [
       "Text(0.5,1,'Coefficients Decision Tree baseado no f-score')"
      ]
     },
     "execution_count": 36,
     "metadata": {},
     "output_type": "execute_result"
    },
    {
     "data": {
      "image/png": "[encoded data removed]",
      "text/plain": [
       "<Figure size 576x720 with 1 Axes>"
      ]
     },
     "metadata": {},
     "output_type": "display_data"
    }
   ],
   "source": [
    "lista_values_conf = []\n",
    "for i in lista_features:\n",
    "    scores = cross_val_score(DecisionTreeClassifier(max_depth=optimal_depth), features[[i]], label, scoring=\"f1\", cv=10)\n",
    "    lista_values_conf.append(scores.mean())\n",
    "    \n",
    "coef = pd.Series(lista_values_conf, index = lista_features)\n",
    "\n",
    "imp_coef = pd.concat([coef.sort_values().head(10), coef.sort_values().tail(10)])\n",
    "matplotlib.rcParams['figure.figsize'] = (8.0, 10.0)\n",
    "imp_coef.plot(kind = \"barh\")\n",
    "plt.title(\"Coefficients Decision Tree baseado no f-score\")\n"
   ]
  },
  {
   "cell_type": "markdown",
   "metadata": {},
   "source": [
    "Novamente no modelo Decision Tree como no KNN as variáveis consideradas mais importantes foram total_receita e total_depesas. No entanto, a variável considerada menos importante foi sexo.\n",
    "\n",
    "Podemos observar que novamente as variáveis mais importantes são features numéricas contendo valores monetários"
   ]
  },
  {
   "cell_type": "markdown",
   "metadata": {},
   "source": [
    "#### Adaboosting"
   ]
  },
  {
   "cell_type": "code",
   "execution_count": 37,
   "metadata": {},
   "outputs": [
    {
     "data": {
      "text/plain": [
       "Text(0.5,1,'Coefficients Adaboosting baseado no f-score')"
      ]
     },
     "execution_count": 37,
     "metadata": {},
     "output_type": "execute_result"
    },
    {
     "data": {
      "image/png": "[encoded data removed]",
      "text/plain": [
       "<Figure size 576x720 with 1 Axes>"
      ]
     },
     "metadata": {},
     "output_type": "display_data"
    }
   ],
   "source": [
    "lista_values_conf = []\n",
    "for i in lista_features:\n",
    "    scores = cross_val_score(AdaBoostClassifier(n_estimators=optimal_ada, learning_rate=1), features[[i]], label, scoring=\"f1\", cv=10)\n",
    "    lista_values_conf.append(scores.mean())\n",
    "    \n",
    "coef = pd.Series(lista_values_conf, index = lista_features)\n",
    "\n",
    "imp_coef = pd.concat([coef.sort_values().head(10), coef.sort_values().tail(10)])\n",
    "matplotlib.rcParams['figure.figsize'] = (8.0, 10.0)\n",
    "imp_coef.plot(kind = \"barh\")\n",
    "plt.title(\"Coefficients Adaboosting baseado no f-score\")"
   ]
  },
  {
   "cell_type": "markdown",
   "metadata": {},
   "source": [
    "Com base também na Figura anteior que mostra as variáveis mais importantes para modelo Decision tree, as features mais importantes no modelo adaboosting parecem serem as mesmas.\n",
    "\n",
    "Vamos agora analisar outros modelos."
   ]
  },
  {
   "cell_type": "markdown",
   "metadata": {},
   "source": [
    "### Outros Modelos"
   ]
  },
  {
   "cell_type": "markdown",
   "metadata": {},
   "source": [
    "#### Random Florest"
   ]
  },
  {
   "cell_type": "code",
   "execution_count": null,
   "metadata": {},
   "outputs": [],
   "source": [
    "from sklearn.ensemble import RandomForestClassifier\n",
    "\n",
    "n_estimators_list = [5, 10, 19, 21, 23, 29, 31, 50, 53, 55, 60, 100, 333, 600, 900]\n",
    "\n",
    "cv_scores_rf = [cross_validation(RandomForestClassifier(n_estimators=n))\n",
    "            for n in n_estimators_list]\n",
    "\n",
    "result_rf = extrairMelhorValorMetricas(cv_scores_rf)\n",
    "optimal_n_rf = n_estimators[result_gd['index_f1']]\n",
    "printMetrics(result_rf)"
   ]
  },
  {
   "cell_type": "code",
   "execution_count": null,
   "metadata": {},
   "outputs": [],
   "source": [
    "plot_knn = pd.Series(result_rf['all_f1'], index = n_estimators_list)\n",
    "plot_knn.plot(title = \"Cross validation\")\n",
    "plt.xlabel(\"'Number of n_estimators'\")\n",
    "plt.ylabel(\"F1-score\")\n",
    "plt.show()\n",
    "print (\"O melhor valor para n_estimators é: \", optimal_n_rf)"
   ]
  },
  {
   "cell_type": "code",
   "execution_count": null,
   "metadata": {},
   "outputs": [],
   "source": [
    "rf_model = RandomForestClassifier(n_estimators=optimal_n_rf)\n",
    "rf_model = rf_model.fit(features, label)\n",
    "\n",
    "x_predict_train_rf = rf_model.predict(train_X)\n",
    "x_predict_val_rf = rf_model.predict(validacao_X)"
   ]
  },
  {
   "cell_type": "markdown",
   "metadata": {},
   "source": [
    "#### Grandient Bootisg"
   ]
  },
  {
   "cell_type": "code",
   "execution_count": null,
   "metadata": {},
   "outputs": [],
   "source": [
    "from sklearn.ensemble import GradientBoostingClassifier\n",
    "\n",
    "n_estimators_list_g = [5, 10, 19, 21, 23, 29, 31, 50, 53, 55, 60, 100, 333, 600, 900]\n",
    "\n",
    "cv_scores_gd = [cross_validation(GradientBoostingClassifier(n_estimators=n))\n",
    "            for n in n_estimators_list_g]\n",
    "\n",
    "result_gd = extrairMelhorValorMetricas(cv_scores_gd)\n",
    "optimal_n_gd = n_estimators[result_gd['index_f1']]\n",
    "printMetrics(result_gd)"
   ]
  },
  {
   "cell_type": "code",
   "execution_count": null,
   "metadata": {},
   "outputs": [],
   "source": [
    "plot_knn = pd.Series(result_gd['all_f1'], index = n_estimators_list_g)\n",
    "plot_knn.plot(title = \"Cross validation\")\n",
    "plt.xlabel(\"'Number of n_estimators'\")\n",
    "plt.ylabel(\"F1-score\")\n",
    "plt.show()\n",
    "print (\"O melhor valor para n_estimators é: \", optimal_n_rf)"
   ]
  },
  {
   "cell_type": "code",
   "execution_count": null,
   "metadata": {},
   "outputs": [],
   "source": [
    "gd_model = GradientBoostingClassifier(n_estimators=optimal_n_gd)\n",
    "gd_model = gd_model.fit(features, label)\n",
    "\n",
    "x_predict_train_gd = gd_model.predict(train_X)\n",
    "x_predict_val_gd = gd_model.predict(validacao_X)"
   ]
  }
 ],
 "metadata": {
  "kernelspec": {
   "display_name": "Python 3",
   "language": "python",
   "name": "python3"
  },
  "language_info": {
   "codemirror_mode": {
    "name": "ipython",
    "version": 3
   },
   "file_extension": ".py",
   "mimetype": "text/x-python",
   "name": "python",
   "nbconvert_exporter": "python",
   "pygments_lexer": "ipython3",
   "version": "3.6.5"
  }
 },
 "nbformat": 4,
 "nbformat_minor": 2
}
