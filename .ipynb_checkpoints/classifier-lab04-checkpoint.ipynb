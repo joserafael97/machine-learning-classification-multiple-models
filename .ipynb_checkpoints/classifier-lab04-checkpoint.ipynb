{
 "cells": [
  {
   "cell_type": "markdown",
   "metadata": {},
   "source": [
    "# Predição dos deputados Federais eleitos ou não eleitos\n"
   ]
  },
  {
   "cell_type": "code",
   "execution_count": 702,
   "metadata": {},
   "outputs": [],
   "source": [
    "import pandas as pd\n",
    "import numpy as np\n",
    "import seaborn as sns\n",
    "import matplotlib\n",
    "import seaborn as sns\n",
    "\n",
    "import matplotlib.pyplot as plt\n",
    "from scipy.stats import skew\n",
    "from scipy.stats.stats import pearsonr\n",
    "from sklearn import preprocessing\n",
    "from sklearn import metrics\n",
    "\n",
    "%config InlineBackend.figure_format = 'png' \n",
    "%matplotlib inline\n",
    "\n",
    "sns.set(style=\"darkgrid\")"
   ]
  },
  {
   "cell_type": "code",
   "execution_count": 703,
   "metadata": {},
   "outputs": [],
   "source": [
    "train = pd.read_csv(\"data/train.csv\")\n",
    "test = pd.read_csv(\"data/test.csv\")"
   ]
  },
  {
   "cell_type": "markdown",
   "metadata": {},
   "source": [
    "Abaixo é possível análise uma pequena partes dos dados originais."
   ]
  },
  {
   "cell_type": "code",
   "execution_count": 704,
   "metadata": {},
   "outputs": [
    {
     "data": {
      "text/html": [
       "<div>\n",
       "<style scoped>\n",
       "    .dataframe tbody tr th:only-of-type {\n",
       "        vertical-align: middle;\n",
       "    }\n",
       "\n",
       "    .dataframe tbody tr th {\n",
       "        vertical-align: top;\n",
       "    }\n",
       "\n",
       "    .dataframe thead th {\n",
       "        text-align: right;\n",
       "    }\n",
       "</style>\n",
       "<table border=\"1\" class=\"dataframe\">\n",
       "  <thead>\n",
       "    <tr style=\"text-align: right;\">\n",
       "      <th></th>\n",
       "      <th>ano</th>\n",
       "      <th>sequencial_candidato</th>\n",
       "      <th>nome</th>\n",
       "      <th>uf</th>\n",
       "      <th>partido</th>\n",
       "      <th>quantidade_doacoes</th>\n",
       "      <th>quantidade_doadores</th>\n",
       "      <th>total_receita</th>\n",
       "      <th>media_receita</th>\n",
       "      <th>recursos_de_outros_candidatos.comites</th>\n",
       "      <th>...</th>\n",
       "      <th>quantidade_despesas</th>\n",
       "      <th>quantidade_fornecedores</th>\n",
       "      <th>total_despesa</th>\n",
       "      <th>media_despesa</th>\n",
       "      <th>cargo</th>\n",
       "      <th>sexo</th>\n",
       "      <th>grau</th>\n",
       "      <th>estado_civil</th>\n",
       "      <th>ocupacao</th>\n",
       "      <th>situacao</th>\n",
       "    </tr>\n",
       "  </thead>\n",
       "  <tbody>\n",
       "    <tr>\n",
       "      <th>0</th>\n",
       "      <td>2006</td>\n",
       "      <td>10001</td>\n",
       "      <td>JOSÉ LUIZ NOGUEIRA DE SOUSA</td>\n",
       "      <td>AP</td>\n",
       "      <td>PT</td>\n",
       "      <td>6</td>\n",
       "      <td>6</td>\n",
       "      <td>16600.00</td>\n",
       "      <td>2766.67</td>\n",
       "      <td>0.0</td>\n",
       "      <td>...</td>\n",
       "      <td>14</td>\n",
       "      <td>14</td>\n",
       "      <td>16583.60</td>\n",
       "      <td>1184.54</td>\n",
       "      <td>DEPUTADO FEDERAL</td>\n",
       "      <td>MASCULINO</td>\n",
       "      <td>ENSINO MÉDIO COMPLETO</td>\n",
       "      <td>CASADO(A)</td>\n",
       "      <td>VEREADOR</td>\n",
       "      <td>nao_eleito</td>\n",
       "    </tr>\n",
       "    <tr>\n",
       "      <th>1</th>\n",
       "      <td>2006</td>\n",
       "      <td>10002</td>\n",
       "      <td>LOIVA DE OLIVEIRA</td>\n",
       "      <td>RO</td>\n",
       "      <td>PT</td>\n",
       "      <td>13</td>\n",
       "      <td>13</td>\n",
       "      <td>22826.00</td>\n",
       "      <td>1755.85</td>\n",
       "      <td>6625.0</td>\n",
       "      <td>...</td>\n",
       "      <td>24</td>\n",
       "      <td>23</td>\n",
       "      <td>20325.99</td>\n",
       "      <td>846.92</td>\n",
       "      <td>DEPUTADO FEDERAL</td>\n",
       "      <td>FEMININO</td>\n",
       "      <td>SUPERIOR COMPLETO</td>\n",
       "      <td>SOLTEIRO(A)</td>\n",
       "      <td>SERVIDOR PÚBLICO ESTADUAL</td>\n",
       "      <td>nao_eleito</td>\n",
       "    </tr>\n",
       "    <tr>\n",
       "      <th>2</th>\n",
       "      <td>2006</td>\n",
       "      <td>10002</td>\n",
       "      <td>MARIA DALVA DE SOUZA FIGUEIREDO</td>\n",
       "      <td>AP</td>\n",
       "      <td>PT</td>\n",
       "      <td>17</td>\n",
       "      <td>16</td>\n",
       "      <td>158120.80</td>\n",
       "      <td>9301.22</td>\n",
       "      <td>2250.0</td>\n",
       "      <td>...</td>\n",
       "      <td>123</td>\n",
       "      <td>108</td>\n",
       "      <td>146011.70</td>\n",
       "      <td>1187.09</td>\n",
       "      <td>DEPUTADO FEDERAL</td>\n",
       "      <td>FEMININO</td>\n",
       "      <td>SUPERIOR COMPLETO</td>\n",
       "      <td>VIÚVO(A)</td>\n",
       "      <td>PEDAGOGO</td>\n",
       "      <td>eleito</td>\n",
       "    </tr>\n",
       "    <tr>\n",
       "      <th>3</th>\n",
       "      <td>2006</td>\n",
       "      <td>10002</td>\n",
       "      <td>ROMALDO MILANI</td>\n",
       "      <td>MS</td>\n",
       "      <td>PRONA</td>\n",
       "      <td>6</td>\n",
       "      <td>6</td>\n",
       "      <td>3001.12</td>\n",
       "      <td>500.19</td>\n",
       "      <td>0.0</td>\n",
       "      <td>...</td>\n",
       "      <td>8</td>\n",
       "      <td>8</td>\n",
       "      <td>3001.12</td>\n",
       "      <td>375.14</td>\n",
       "      <td>DEPUTADO FEDERAL</td>\n",
       "      <td>MASCULINO</td>\n",
       "      <td>ENSINO MÉDIO INCOMPLETO</td>\n",
       "      <td>CASADO(A)</td>\n",
       "      <td>MILITAR REFORMADO</td>\n",
       "      <td>nao_eleito</td>\n",
       "    </tr>\n",
       "    <tr>\n",
       "      <th>4</th>\n",
       "      <td>2006</td>\n",
       "      <td>10003</td>\n",
       "      <td>ANSELMO DE JESUS ABREU</td>\n",
       "      <td>RO</td>\n",
       "      <td>PT</td>\n",
       "      <td>48</td>\n",
       "      <td>48</td>\n",
       "      <td>119820.00</td>\n",
       "      <td>2496.25</td>\n",
       "      <td>0.0</td>\n",
       "      <td>...</td>\n",
       "      <td>133</td>\n",
       "      <td>120</td>\n",
       "      <td>116416.64</td>\n",
       "      <td>875.31</td>\n",
       "      <td>DEPUTADO FEDERAL</td>\n",
       "      <td>MASCULINO</td>\n",
       "      <td>ENSINO FUNDAMENTAL COMPLETO</td>\n",
       "      <td>CASADO(A)</td>\n",
       "      <td>DEPUTADO</td>\n",
       "      <td>eleito</td>\n",
       "    </tr>\n",
       "  </tbody>\n",
       "</table>\n",
       "<p>5 rows × 24 columns</p>\n",
       "</div>"
      ],
      "text/plain": [
       "    ano  sequencial_candidato                             nome  uf partido  \\\n",
       "0  2006                 10001      JOSÉ LUIZ NOGUEIRA DE SOUSA  AP      PT   \n",
       "1  2006                 10002                LOIVA DE OLIVEIRA  RO      PT   \n",
       "2  2006                 10002  MARIA DALVA DE SOUZA FIGUEIREDO  AP      PT   \n",
       "3  2006                 10002                   ROMALDO MILANI  MS   PRONA   \n",
       "4  2006                 10003           ANSELMO DE JESUS ABREU  RO      PT   \n",
       "\n",
       "   quantidade_doacoes  quantidade_doadores  total_receita  media_receita  \\\n",
       "0                   6                    6       16600.00        2766.67   \n",
       "1                  13                   13       22826.00        1755.85   \n",
       "2                  17                   16      158120.80        9301.22   \n",
       "3                   6                    6        3001.12         500.19   \n",
       "4                  48                   48      119820.00        2496.25   \n",
       "\n",
       "   recursos_de_outros_candidatos.comites     ...      quantidade_despesas  \\\n",
       "0                                    0.0     ...                       14   \n",
       "1                                 6625.0     ...                       24   \n",
       "2                                 2250.0     ...                      123   \n",
       "3                                    0.0     ...                        8   \n",
       "4                                    0.0     ...                      133   \n",
       "\n",
       "   quantidade_fornecedores  total_despesa  media_despesa             cargo  \\\n",
       "0                       14       16583.60        1184.54  DEPUTADO FEDERAL   \n",
       "1                       23       20325.99         846.92  DEPUTADO FEDERAL   \n",
       "2                      108      146011.70        1187.09  DEPUTADO FEDERAL   \n",
       "3                        8        3001.12         375.14  DEPUTADO FEDERAL   \n",
       "4                      120      116416.64         875.31  DEPUTADO FEDERAL   \n",
       "\n",
       "        sexo                         grau  estado_civil  \\\n",
       "0  MASCULINO        ENSINO MÉDIO COMPLETO     CASADO(A)   \n",
       "1   FEMININO            SUPERIOR COMPLETO   SOLTEIRO(A)   \n",
       "2   FEMININO            SUPERIOR COMPLETO      VIÚVO(A)   \n",
       "3  MASCULINO      ENSINO MÉDIO INCOMPLETO     CASADO(A)   \n",
       "4  MASCULINO  ENSINO FUNDAMENTAL COMPLETO     CASADO(A)   \n",
       "\n",
       "                    ocupacao    situacao  \n",
       "0                   VEREADOR  nao_eleito  \n",
       "1  SERVIDOR PÚBLICO ESTADUAL  nao_eleito  \n",
       "2                   PEDAGOGO      eleito  \n",
       "3          MILITAR REFORMADO  nao_eleito  \n",
       "4                   DEPUTADO      eleito  \n",
       "\n",
       "[5 rows x 24 columns]"
      ]
     },
     "execution_count": 704,
     "metadata": {},
     "output_type": "execute_result"
    }
   ],
   "source": [
    "train.head()"
   ]
  },
  {
   "cell_type": "markdown",
   "metadata": {},
   "source": [
    "Vamos agora analisar a distribuição das classes eleito e nçai eleito nos dados de treino"
   ]
  },
  {
   "cell_type": "code",
   "execution_count": 705,
   "metadata": {},
   "outputs": [
    {
     "data": {
      "text/plain": [
       "<matplotlib.axes._subplots.AxesSubplot at 0x7f76055f3278>"
      ]
     },
     "execution_count": 705,
     "metadata": {},
     "output_type": "execute_result"
    },
    {
     "data": {
      "image/png": "[encoded data removed]",
      "text/plain": [
       "<Figure size 432x288 with 1 Axes>"
      ]
     },
     "metadata": {},
     "output_type": "display_data"
    }
   ],
   "source": [
    "sns.countplot(x=\"situacao\", data=train)"
   ]
  },
  {
   "cell_type": "markdown",
   "metadata": {},
   "source": [
    "Como podemos verificar na distribuição existem poucas examplares no dados com valor eleito (cerca de 1000) enquanto examplares nos dados com valor não eleito são representados por mais de 6000, o que demostra um desbalanceamento de classes. Este resultado pode resultar e uma alta acurácia de forma erroneamente (Overfitting). \n",
    "\n",
    "Nesse contexto, aplicamos a técnica de Random under-sampling para balancear a duas classes. Essa técnica consiste remover amostrar da classe majoritária, ficando assim ambas com mesmo número de aparições e balanceadas. "
   ]
  },
  {
   "cell_type": "code",
   "execution_count": 706,
   "metadata": {},
   "outputs": [
    {
     "data": {
      "text/plain": [
       "<matplotlib.axes._subplots.AxesSubplot at 0x7f7605946438>"
      ]
     },
     "execution_count": 706,
     "metadata": {},
     "output_type": "execute_result"
    },
    {
     "data": {
      "image/png": "[encoded data removed]",
      "text/plain": [
       "<Figure size 432x288 with 1 Axes>"
      ]
     },
     "metadata": {},
     "output_type": "display_data"
    }
   ],
   "source": [
    "count_class_1, count_class_0 = train.situacao.value_counts()\n",
    "df_class_0 = train[train['situacao'] == \"eleito\"]\n",
    "df_class_1 = train[train['situacao'] == \"nao_eleito\"]\n",
    "\n",
    "df_class_1_under = df_class_1.sample(count_class_0, replace=True)\n",
    "train = pd.concat([df_class_1_under, df_class_0], axis=0)\n",
    "\n",
    "sns.countplot(x=\"situacao\", data=train)"
   ]
  },
  {
   "cell_type": "markdown",
   "metadata": {},
   "source": [
    "### Tratamento nos dados"
   ]
  },
  {
   "cell_type": "markdown",
   "metadata": {},
   "source": [
    "Para considerar somente features relevantes, foram desconsideradas as seguintes variáveis:\n",
    "\n",
    "ano - Com os dados de treino e teste utilizados são somente de único ano, esta informação logo pode ser desconsiderada\n",
    "sequencial_candidato é apenas um identificador de cada candidato que não será útil para predição\n",
    "Nome - O nome do candidato\n",
    "Cargo - considerando que todos os parlamentares são Deputados Federais essa infomação não é útil.\n"
   ]
  },
  {
   "cell_type": "code",
   "execution_count": 707,
   "metadata": {},
   "outputs": [],
   "source": [
    "train = train.drop([\"ano\", \"sequencial_candidato\", \"nome\", \"cargo\"], axis=1)\n",
    "test = test.drop([\"ano\", \"sequencial_candidato\", \"nome\", \"cargo\"], axis=1)"
   ]
  },
  {
   "cell_type": "markdown",
   "metadata": {},
   "source": [
    "Como medida para reduzir o envisamento nos dados, iremos aplicar log em todas as variáveis numéricas que serão utilizadas na predição. Além disso, iremos remover valores NA dos presentes nos dados.\n",
    "\n",
    "A função abaixo remove os valores NA das variáveis numéricas e substitui pela média dos valores ao qual a coluna pertence."
   ]
  },
  {
   "cell_type": "code",
   "execution_count": 708,
   "metadata": {},
   "outputs": [],
   "source": [
    "def remove_NA(data):\n",
    "    #remove NA das variáveis e substitui pela média\n",
    "    return data.fillna(data.mean())"
   ]
  },
  {
   "cell_type": "markdown",
   "metadata": {},
   "source": [
    "Para aplicar o log nas variáveis, a fim de diminuir seu enviesamento a função abaixo foi criada."
   ]
  },
  {
   "cell_type": "code",
   "execution_count": 709,
   "metadata": {},
   "outputs": [],
   "source": [
    "def set_log_numeric_variables(data):\n",
    "    numeric_feats = data.dtypes[data.dtypes != \"object\"].index\n",
    "    \n",
    "    #coloca valores das variáveis numéricas em escala de log\n",
    "    data[numeric_feats] = np.log1p(data[numeric_feats])\n",
    "\n",
    "    return data"
   ]
  },
  {
   "cell_type": "markdown",
   "metadata": {},
   "source": [
    "Varios dos algoritmos de Aprendizado de máquina para classificação necessitam de dados numéricos. Assim, vamos converter nossas variáveis categóricas em valores numéricos."
   ]
  },
  {
   "cell_type": "code",
   "execution_count": 710,
   "metadata": {},
   "outputs": [],
   "source": [
    "def convert_categorical_variable_in_numeric(data):\n",
    "    le = preprocessing.LabelEncoder()\n",
    "\n",
    "    data['uf'] = le.fit_transform(data['uf'])\n",
    "    data['partido'] = le.fit_transform(data['partido'])\n",
    "    data['sexo'] = le.fit_transform(data['sexo'])\n",
    "    data['grau'] = le.fit_transform(data['grau'])\n",
    "    data['estado_civil'] = le.fit_transform(data['estado_civil'])\n",
    "    data['ocupacao'] = le.fit_transform(data['ocupacao'])\n",
    "    if (\"situacao\" in data.columns):\n",
    "        data['situacao'] = le.fit_transform(data['situacao'])\n",
    "    \n",
    "    return data"
   ]
  },
  {
   "cell_type": "markdown",
   "metadata": {},
   "source": [
    "Para normalizar as variáveis presentes nos dados comm valores entre 0 a 1, a função de normalização abaixo foi criada."
   ]
  },
  {
   "cell_type": "code",
   "execution_count": 711,
   "metadata": {},
   "outputs": [],
   "source": [
    "def data_normalization(data):\n",
    "    #log transform skewed numeric features:\n",
    "    numeric_feats = data.dtypes[data.dtypes != \"object\"].index\n",
    "    \n",
    "    #identifica as variáveis categóricas\n",
    "    cat_feats = data.dtypes[data.dtypes == \"object\"].index\n",
    "\n",
    "    min_max = preprocessing.MinMaxScaler()\n",
    "    data_normalized = min_max.fit_transform(data[numeric_feats])\n",
    "    \n",
    "    data_normalized = pd.DataFrame(data_normalized, columns=data[numeric_feats].columns)\n",
    "    \n",
    "    data = pd.concat([data_normalized, data[cat_feats].reset_index()], axis = 1, sort = False)\n",
    "    \n",
    "    return data"
   ]
  },
  {
   "cell_type": "markdown",
   "metadata": {},
   "source": [
    "Aqui vamos aplicar todas as funções descritas anteriormente."
   ]
  },
  {
   "cell_type": "code",
   "execution_count": 712,
   "metadata": {},
   "outputs": [],
   "source": [
    "def data_proccess(data):\n",
    "    \n",
    "     #1. substitui NA pela média da coluna\n",
    "    data = remove_NA(data)\n",
    "    \n",
    "    #2. aplica log nas variáveis numéricas\n",
    "    data = set_log_numeric_variables(data)\n",
    "    \n",
    "    #3. normaliza variáveis\n",
    "    data = data_normalization(data)\n",
    "    \n",
    "    #4.Converte variáveis categóricas\n",
    "    data = convert_categorical_variable_in_numeric(data)\n",
    "    \n",
    "    return data"
   ]
  },
  {
   "cell_type": "markdown",
   "metadata": {},
   "source": [
    "### Modelagem"
   ]
  },
  {
   "cell_type": "code",
   "execution_count": 713,
   "metadata": {},
   "outputs": [],
   "source": [
    "#tratamendo dos dados de treino\n",
    "train = data_proccess(train)\n",
    "train = train.drop(\"index\", axis=1)\n",
    "\n",
    "features = train.drop('situacao', axis=1)\n",
    "label = train.situacao\n",
    "\n",
    "#dados teste\n",
    "test = data_proccess(test)\n",
    "test = test.drop(\"index\", axis=1)"
   ]
  },
  {
   "cell_type": "code",
   "execution_count": 714,
   "metadata": {},
   "outputs": [],
   "source": [
    "from sklearn.model_selection import cross_val_score\n",
    "\n",
    "from sklearn.metrics import make_scorer, accuracy_score, precision_score, recall_score, f1_score\n",
    "\n",
    "def cross_validation(model, cv=10):\n",
    "    values = []\n",
    "    f1 = cross_val_score(model, features, label, cv=cv, scoring=\"f1\").mean() \n",
    "    precision = cross_val_score(model, features, label, cv=cv, scoring=\"precision\").mean() \n",
    "    recall = cross_val_score(model, features, label, cv=cv, scoring=\"recall\").mean() \n",
    "    auc = cross_val_score(model, features, label, cv=cv, scoring='roc_auc').mean()\n",
    "        \n",
    "    values.append({\"f1\": f1, \"recall\": recall, \"precision\": precision, \"roc_auc\": auc})\n",
    "    return(values)\n",
    "\n",
    "def extrairMelhorValorMetricas(values):\n",
    "    lista_f1 = []\n",
    "    lista_recall = []\n",
    "    lista_precision = []\n",
    "    lista_auc = []\n",
    "    \n",
    "    for v in values:\n",
    "        lista_f1.append(v[0]['f1'])\n",
    "        lista_recall.append(v[0]['recall'])\n",
    "        lista_precision.append(v[0]['precision'])\n",
    "        lista_auc.append(v[0]['roc_auc'])\n",
    "        \n",
    "    return {\"all_f1\": lista_f1,\"index_f1\": lista_f1.index(np.max(lista_f1)), \n",
    "            \"f1\": np.max(lista_f1), \"recall\": np.max(lista_recall), \"precision\": np.max(lista_precision), \n",
    "            \"roc_auc\": np.max(lista_auc)}    \n",
    "\n",
    "    \n",
    "\n",
    "def printMetrics(values):\n",
    "    print(\"As métricas encontradas foram: \")\n",
    "    print(\"Recall: \", values['recall'] * 100, \"%\")\n",
    "    print(\"Precision: \", values['precision'] * 100, \"%\")\n",
    "    print(\"F-score: \", values['f1'] * 100, \"%\")\n",
    "    print(\"AUC: \", values['roc_auc']* 100, \"%\")\n",
    "\n",
    "    "
   ]
  },
  {
   "cell_type": "markdown",
   "metadata": {},
   "source": [
    "### Regresão Logística"
   ]
  },
  {
   "cell_type": "code",
   "execution_count": 715,
   "metadata": {},
   "outputs": [],
   "source": [
    "from sklearn.linear_model import LogisticRegressionCV\n",
    "\n",
    "\n",
    "logreg = LogisticRegressionCV()\n",
    "\n",
    "# scores = cross_validation(logreg)\n",
    "\n",
    "# print(scores)\n",
    "# print('average score: {}'.format(scores.mean()))"
   ]
  },
  {
   "cell_type": "markdown",
   "metadata": {},
   "source": [
    "### KNN"
   ]
  },
  {
   "cell_type": "code",
   "execution_count": 716,
   "metadata": {},
   "outputs": [
    {
     "name": "stdout",
     "output_type": "stream",
     "text": [
      "As métricas encontradas foram: \n",
      "Recall:  74.6554349895298 %\n",
      "Precision:  70.32863810673805 %\n",
      "F-score:  71.66862016265036 %\n",
      "AUC:  74.86102517760285 %\n"
     ]
    }
   ],
   "source": [
    "from sklearn.neighbors import KNeighborsClassifier\n",
    "\n",
    "lista_range = list(range(1,50))\n",
    "neighbors = list(filter(lambda x: x % 2 != 0, lista_range))\n",
    "\n",
    "cv_scores = [cross_validation(KNeighborsClassifier(n_neighbors = k_value), cv=10)\n",
    "            for k_value in neighbors]\n",
    "\n",
    "result = extrairMelhorValorMetricas(cv_scores)\n",
    "optimal_k = neighbors[result['index_f1']]\n",
    "printMetrics(result)"
   ]
  },
  {
   "cell_type": "code",
   "execution_count": 717,
   "metadata": {},
   "outputs": [
    {
     "data": {
      "image/png": "[encoded data removed]",
      "text/plain": [
       "<Figure size 432x288 with 1 Axes>"
      ]
     },
     "metadata": {},
     "output_type": "display_data"
    },
    {
     "name": "stdout",
     "output_type": "stream",
     "text": [
      "O melhor valor para neighbors é:  1\n"
     ]
    }
   ],
   "source": [
    "plot_knn = pd.Series(result['all_f1'], index = neighbors)\n",
    "plot_knn.plot(title = \"Cross validation\")\n",
    "plt.xlabel(\"k\")\n",
    "plt.ylabel(\"F1-score\")\n",
    "plt.show()\n",
    "print (\"O melhor valor para neighbors é: \", optimal_k)"
   ]
  },
  {
   "cell_type": "code",
   "execution_count": 718,
   "metadata": {},
   "outputs": [
    {
     "data": {
      "text/plain": [
       "KNeighborsClassifier(algorithm='auto', leaf_size=30, metric='minkowski',\n",
       "           metric_params=None, n_jobs=None, n_neighbors=1, p=2,\n",
       "           weights='uniform')"
      ]
     },
     "execution_count": 718,
     "metadata": {},
     "output_type": "execute_result"
    }
   ],
   "source": [
    "# Treinando modelo \n",
    "model = KNeighborsClassifier(n_neighbors=optimal_k)\n",
    "model.fit(features, label)"
   ]
  },
  {
   "cell_type": "markdown",
   "metadata": {},
   "source": [
    "### Árvore de decisão (Decision Tree)"
   ]
  },
  {
   "cell_type": "code",
   "execution_count": 719,
   "metadata": {},
   "outputs": [
    {
     "name": "stdout",
     "output_type": "stream",
     "text": [
      "As métricas encontradas foram: \n",
      "Recall:  85.86521987435752 %\n",
      "Precision:  95.77238082587618 %\n",
      "F-score:  89.98429720815246 %\n",
      "AUC:  93.66423781517213 %\n"
     ]
    }
   ],
   "source": [
    "from sklearn.tree import DecisionTreeClassifier\n",
    "\n",
    "lista_range = list(range(0,10))\n",
    "depths = list(filter(lambda x: x % 2 != 0, lista_range))\n",
    "\n",
    "cv_scores_dct = [cross_validation(DecisionTreeClassifier(max_depth = depth_value))\n",
    "            for depth_value in depths]\n",
    "\n",
    "result_dct = extrairMelhorValorMetricas(cv_scores_dct)\n",
    "optimal_depth = depths[result_dct['index_f1']]\n",
    "printMetrics(result_dct)\n"
   ]
  },
  {
   "cell_type": "code",
   "execution_count": 720,
   "metadata": {},
   "outputs": [
    {
     "data": {
      "image/png": "[encoded data removed]",
      "text/plain": [
       "<Figure size 432x288 with 1 Axes>"
      ]
     },
     "metadata": {},
     "output_type": "display_data"
    },
    {
     "name": "stdout",
     "output_type": "stream",
     "text": [
      "O melhor valor para max depth é:  1\n"
     ]
    }
   ],
   "source": [
    "plot_knn = pd.Series(result_dct['all_f1'], index = depths)\n",
    "plot_knn.plot(title = \"Cross validation\")\n",
    "plt.xlabel(\"'Number of depth'\")\n",
    "plt.ylabel(\"F1-score\")\n",
    "plt.show()\n",
    "print (\"O melhor valor para max depth é: \", optimal_depth)"
   ]
  },
  {
   "cell_type": "code",
   "execution_count": 721,
   "metadata": {},
   "outputs": [
    {
     "data": {
      "text/plain": [
       "DecisionTreeClassifier(class_weight=None, criterion='gini', max_depth=1,\n",
       "            max_features=None, max_leaf_nodes=None,\n",
       "            min_impurity_decrease=0.0, min_impurity_split=None,\n",
       "            min_samples_leaf=1, min_samples_split=2,\n",
       "            min_weight_fraction_leaf=0.0, presort=False, random_state=None,\n",
       "            splitter='best')"
      ]
     },
     "execution_count": 721,
     "metadata": {},
     "output_type": "execute_result"
    }
   ],
   "source": [
    "#treinando o modelo\n",
    "classifier = DecisionTreeClassifier(max_depth=optimal_depth)  \n",
    "classifier.fit(features, label)  "
   ]
  },
  {
   "cell_type": "markdown",
   "metadata": {},
   "source": [
    "### Adaboost"
   ]
  },
  {
   "cell_type": "code",
   "execution_count": 722,
   "metadata": {},
   "outputs": [
    {
     "ename": "AttributeError",
     "evalue": "'list' object has no attribute 'mean'",
     "output_type": "error",
     "traceback": [
      "\u001b[0;31m---------------------------------------------------------------------------\u001b[0m",
      "\u001b[0;31mAttributeError\u001b[0m                            Traceback (most recent call last)",
      "\u001b[0;32m<ipython-input-722-b6700f58346f>\u001b[0m in \u001b[0;36m<module>\u001b[0;34m()\u001b[0m\n\u001b[1;32m      8\u001b[0m \u001b[0;34m\u001b[0m\u001b[0m\n\u001b[1;32m      9\u001b[0m cv_scores = [cross_validation(DecisionTreeClassifier(max_depth = depth_value), cv=10).mean() \n\u001b[0;32m---> 10\u001b[0;31m             for depth_value in depths]\n\u001b[0m\u001b[1;32m     11\u001b[0m \u001b[0;34m\u001b[0m\u001b[0m\n\u001b[1;32m     12\u001b[0m \u001b[0mMSE\u001b[0m \u001b[0;34m=\u001b[0m \u001b[0;34m[\u001b[0m\u001b[0;36m1\u001b[0m \u001b[0;34m-\u001b[0m \u001b[0mx\u001b[0m \u001b[0;32mfor\u001b[0m \u001b[0mx\u001b[0m \u001b[0;32min\u001b[0m \u001b[0mcv_scores\u001b[0m\u001b[0;34m]\u001b[0m\u001b[0;34m\u001b[0m\u001b[0m\n",
      "\u001b[0;32m<ipython-input-722-b6700f58346f>\u001b[0m in \u001b[0;36m<listcomp>\u001b[0;34m(.0)\u001b[0m\n\u001b[1;32m      8\u001b[0m \u001b[0;34m\u001b[0m\u001b[0m\n\u001b[1;32m      9\u001b[0m cv_scores = [cross_validation(DecisionTreeClassifier(max_depth = depth_value), cv=10).mean() \n\u001b[0;32m---> 10\u001b[0;31m             for depth_value in depths]\n\u001b[0m\u001b[1;32m     11\u001b[0m \u001b[0;34m\u001b[0m\u001b[0m\n\u001b[1;32m     12\u001b[0m \u001b[0mMSE\u001b[0m \u001b[0;34m=\u001b[0m \u001b[0;34m[\u001b[0m\u001b[0;36m1\u001b[0m \u001b[0;34m-\u001b[0m \u001b[0mx\u001b[0m \u001b[0;32mfor\u001b[0m \u001b[0mx\u001b[0m \u001b[0;32min\u001b[0m \u001b[0mcv_scores\u001b[0m\u001b[0;34m]\u001b[0m\u001b[0;34m\u001b[0m\u001b[0m\n",
      "\u001b[0;31mAttributeError\u001b[0m: 'list' object has no attribute 'mean'"
     ]
    }
   ],
   "source": [
    "from sklearn.ensemble import AdaBoostClassifier\n",
    "\n",
    "from sklearn.tree import DecisionTreeClassifier\n",
    "\n",
    "\n",
    "lista_range = list(range(1,10))\n",
    "depths = list(filter(lambda x: x % 2 != 0, lista_range))\n",
    "\n",
    "cv_scores = [cross_validation(DecisionTreeClassifier(max_depth = depth_value), cv=10).mean() \n",
    "            for depth_value in depths]\n",
    "\n",
    "MSE = [1 - x for x in cv_scores]\n",
    "optimal_depth = depths[MSE.index(min(MSE))]\n",
    "print (\"O melhor valor para max depth é: \", optimal_depth)"
   ]
  },
  {
   "cell_type": "code",
   "execution_count": null,
   "metadata": {},
   "outputs": [],
   "source": [
    "#treinando o modelo\n",
    "abc = AdaBoostClassifier(n_estimators=50, learning_rate=1)\n",
    "model = abc.fit(X_train, y_train)"
   ]
  }
 ],
 "metadata": {
  "kernelspec": {
   "display_name": "Python 3",
   "language": "python",
   "name": "python3"
  },
  "language_info": {
   "codemirror_mode": {
    "name": "ipython",
    "version": 3
   },
   "file_extension": ".py",
   "mimetype": "text/x-python",
   "name": "python",
   "nbconvert_exporter": "python",
   "pygments_lexer": "ipython3",
   "version": "3.6.5"
  }
 },
 "nbformat": 4,
 "nbformat_minor": 2
}
